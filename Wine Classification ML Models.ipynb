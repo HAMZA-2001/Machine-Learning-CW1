{
 "cells": [
  {
   "cell_type": "code",
   "execution_count": 29,
   "id": "9e5cbe52",
   "metadata": {},
   "outputs": [],
   "source": [
    "# IMPORTING LIBRARIES\n",
    "import pandas as pd\n",
    "import numpy as np\n",
    "import matplotlib.pyplot as plt\n",
    "import seaborn as sns\n",
    "import scipy as sp\n",
    "import sklearn as sk"
   ]
  },
  {
   "cell_type": "code",
   "execution_count": 39,
   "id": "42e96335",
   "metadata": {},
   "outputs": [
    {
     "name": "stdout",
     "output_type": "stream",
     "text": [
      "0      1\n",
      "1      1\n",
      "2      1\n",
      "3      1\n",
      "4      1\n",
      "      ..\n",
      "173    3\n",
      "174    3\n",
      "175    3\n",
      "176    3\n",
      "177    3\n",
      "Name: Class Identifier, Length: 178, dtype: int64\n"
     ]
    }
   ],
   "source": [
    "column_names = [\"Class Identifier\",\"Alcohol\", \"Malic acid\", \"Ash\", \"Alcalinity of ash\", \"Magnesium\", \"Total phenols\", \"Flavanoids\", \"Nonflavanoid phenols\", \"Proanthocyanins\", \"Color intensity\", \"Hue\", \"OD280/OD315 of diluted wines\", \"Proline\"]\n",
    "df = pd.read_csv(\"wine.data\", names = column_names)\n",
    "\n",
    "y = df[\"Class Identifier\"]\n",
    "print(y)"
   ]
  },
  {
   "cell_type": "code",
   "execution_count": 40,
   "id": "a54625d7",
   "metadata": {},
   "outputs": [
    {
     "data": {
      "text/html": [
       "<div>\n",
       "<style scoped>\n",
       "    .dataframe tbody tr th:only-of-type {\n",
       "        vertical-align: middle;\n",
       "    }\n",
       "\n",
       "    .dataframe tbody tr th {\n",
       "        vertical-align: top;\n",
       "    }\n",
       "\n",
       "    .dataframe thead th {\n",
       "        text-align: right;\n",
       "    }\n",
       "</style>\n",
       "<table border=\"1\" class=\"dataframe\">\n",
       "  <thead>\n",
       "    <tr style=\"text-align: right;\">\n",
       "      <th></th>\n",
       "      <th>Alcohol</th>\n",
       "      <th>Malic acid</th>\n",
       "      <th>Ash</th>\n",
       "      <th>Alcalinity of ash</th>\n",
       "      <th>Magnesium</th>\n",
       "      <th>Total phenols</th>\n",
       "      <th>Flavanoids</th>\n",
       "      <th>Nonflavanoid phenols</th>\n",
       "      <th>Proanthocyanins</th>\n",
       "      <th>Color intensity</th>\n",
       "      <th>Hue</th>\n",
       "      <th>OD280/OD315 of diluted wines</th>\n",
       "      <th>Proline</th>\n",
       "    </tr>\n",
       "  </thead>\n",
       "  <tbody>\n",
       "    <tr>\n",
       "      <th>0</th>\n",
       "      <td>14.23</td>\n",
       "      <td>1.71</td>\n",
       "      <td>2.43</td>\n",
       "      <td>15.6</td>\n",
       "      <td>127</td>\n",
       "      <td>2.80</td>\n",
       "      <td>3.06</td>\n",
       "      <td>0.28</td>\n",
       "      <td>2.29</td>\n",
       "      <td>5.64</td>\n",
       "      <td>1.04</td>\n",
       "      <td>3.92</td>\n",
       "      <td>1065</td>\n",
       "    </tr>\n",
       "    <tr>\n",
       "      <th>1</th>\n",
       "      <td>13.20</td>\n",
       "      <td>1.78</td>\n",
       "      <td>2.14</td>\n",
       "      <td>11.2</td>\n",
       "      <td>100</td>\n",
       "      <td>2.65</td>\n",
       "      <td>2.76</td>\n",
       "      <td>0.26</td>\n",
       "      <td>1.28</td>\n",
       "      <td>4.38</td>\n",
       "      <td>1.05</td>\n",
       "      <td>3.40</td>\n",
       "      <td>1050</td>\n",
       "    </tr>\n",
       "    <tr>\n",
       "      <th>2</th>\n",
       "      <td>13.16</td>\n",
       "      <td>2.36</td>\n",
       "      <td>2.67</td>\n",
       "      <td>18.6</td>\n",
       "      <td>101</td>\n",
       "      <td>2.80</td>\n",
       "      <td>3.24</td>\n",
       "      <td>0.30</td>\n",
       "      <td>2.81</td>\n",
       "      <td>5.68</td>\n",
       "      <td>1.03</td>\n",
       "      <td>3.17</td>\n",
       "      <td>1185</td>\n",
       "    </tr>\n",
       "    <tr>\n",
       "      <th>3</th>\n",
       "      <td>14.37</td>\n",
       "      <td>1.95</td>\n",
       "      <td>2.50</td>\n",
       "      <td>16.8</td>\n",
       "      <td>113</td>\n",
       "      <td>3.85</td>\n",
       "      <td>3.49</td>\n",
       "      <td>0.24</td>\n",
       "      <td>2.18</td>\n",
       "      <td>7.80</td>\n",
       "      <td>0.86</td>\n",
       "      <td>3.45</td>\n",
       "      <td>1480</td>\n",
       "    </tr>\n",
       "    <tr>\n",
       "      <th>4</th>\n",
       "      <td>13.24</td>\n",
       "      <td>2.59</td>\n",
       "      <td>2.87</td>\n",
       "      <td>21.0</td>\n",
       "      <td>118</td>\n",
       "      <td>2.80</td>\n",
       "      <td>2.69</td>\n",
       "      <td>0.39</td>\n",
       "      <td>1.82</td>\n",
       "      <td>4.32</td>\n",
       "      <td>1.04</td>\n",
       "      <td>2.93</td>\n",
       "      <td>735</td>\n",
       "    </tr>\n",
       "  </tbody>\n",
       "</table>\n",
       "</div>"
      ],
      "text/plain": [
       "   Alcohol  Malic acid   Ash  Alcalinity of ash  Magnesium  Total phenols  \\\n",
       "0    14.23        1.71  2.43               15.6        127           2.80   \n",
       "1    13.20        1.78  2.14               11.2        100           2.65   \n",
       "2    13.16        2.36  2.67               18.6        101           2.80   \n",
       "3    14.37        1.95  2.50               16.8        113           3.85   \n",
       "4    13.24        2.59  2.87               21.0        118           2.80   \n",
       "\n",
       "   Flavanoids  Nonflavanoid phenols  Proanthocyanins  Color intensity   Hue  \\\n",
       "0        3.06                  0.28             2.29             5.64  1.04   \n",
       "1        2.76                  0.26             1.28             4.38  1.05   \n",
       "2        3.24                  0.30             2.81             5.68  1.03   \n",
       "3        3.49                  0.24             2.18             7.80  0.86   \n",
       "4        2.69                  0.39             1.82             4.32  1.04   \n",
       "\n",
       "   OD280/OD315 of diluted wines  Proline  \n",
       "0                          3.92     1065  \n",
       "1                          3.40     1050  \n",
       "2                          3.17     1185  \n",
       "3                          3.45     1480  \n",
       "4                          2.93      735  "
      ]
     },
     "execution_count": 40,
     "metadata": {},
     "output_type": "execute_result"
    }
   ],
   "source": [
    "df.drop(\"Class Identifier\", axis=1, inplace=True)\n",
    "features = df\n",
    "df.head()"
   ]
  },
  {
   "cell_type": "code",
   "execution_count": 41,
   "id": "76fea3c0",
   "metadata": {},
   "outputs": [
    {
     "name": "stdout",
     "output_type": "stream",
     "text": [
      "     Alcohol  Malic acid   Ash  Alcalinity of ash  Magnesium  Total phenols  \\\n",
      "0      14.23        1.71  2.43               15.6        127           2.80   \n",
      "1      13.20        1.78  2.14               11.2        100           2.65   \n",
      "2      13.16        2.36  2.67               18.6        101           2.80   \n",
      "3      14.37        1.95  2.50               16.8        113           3.85   \n",
      "4      13.24        2.59  2.87               21.0        118           2.80   \n",
      "..       ...         ...   ...                ...        ...            ...   \n",
      "173    13.71        5.65  2.45               20.5         95           1.68   \n",
      "174    13.40        3.91  2.48               23.0        102           1.80   \n",
      "175    13.27        4.28  2.26               20.0        120           1.59   \n",
      "176    13.17        2.59  2.37               20.0        120           1.65   \n",
      "177    14.13        4.10  2.74               24.5         96           2.05   \n",
      "\n",
      "     Flavanoids  Nonflavanoid phenols  Proanthocyanins  Color intensity   Hue  \\\n",
      "0          3.06                  0.28             2.29             5.64  1.04   \n",
      "1          2.76                  0.26             1.28             4.38  1.05   \n",
      "2          3.24                  0.30             2.81             5.68  1.03   \n",
      "3          3.49                  0.24             2.18             7.80  0.86   \n",
      "4          2.69                  0.39             1.82             4.32  1.04   \n",
      "..          ...                   ...              ...              ...   ...   \n",
      "173        0.61                  0.52             1.06             7.70  0.64   \n",
      "174        0.75                  0.43             1.41             7.30  0.70   \n",
      "175        0.69                  0.43             1.35            10.20  0.59   \n",
      "176        0.68                  0.53             1.46             9.30  0.60   \n",
      "177        0.76                  0.56             1.35             9.20  0.61   \n",
      "\n",
      "     OD280/OD315 of diluted wines  Proline  \n",
      "0                            3.92     1065  \n",
      "1                            3.40     1050  \n",
      "2                            3.17     1185  \n",
      "3                            3.45     1480  \n",
      "4                            2.93      735  \n",
      "..                            ...      ...  \n",
      "173                          1.74      740  \n",
      "174                          1.56      750  \n",
      "175                          1.56      835  \n",
      "176                          1.62      840  \n",
      "177                          1.60      560  \n",
      "\n",
      "[178 rows x 13 columns]\n"
     ]
    },
    {
     "data": {
      "text/plain": [
       "Alcohol                            AxesSubplot(0.125,0.799681;0.168478x0.0803191)\n",
       "Malic acid                      AxesSubplot(0.327174,0.799681;0.168478x0.0803191)\n",
       "Ash                             AxesSubplot(0.529348,0.799681;0.168478x0.0803191)\n",
       "Alcalinity of ash               AxesSubplot(0.731522,0.799681;0.168478x0.0803191)\n",
       "Magnesium                          AxesSubplot(0.125,0.703298;0.168478x0.0803191)\n",
       "Total phenols                   AxesSubplot(0.327174,0.703298;0.168478x0.0803191)\n",
       "Flavanoids                      AxesSubplot(0.529348,0.703298;0.168478x0.0803191)\n",
       "Nonflavanoid phenols            AxesSubplot(0.731522,0.703298;0.168478x0.0803191)\n",
       "Proanthocyanins                    AxesSubplot(0.125,0.606915;0.168478x0.0803191)\n",
       "Color intensity                 AxesSubplot(0.327174,0.606915;0.168478x0.0803191)\n",
       "Hue                             AxesSubplot(0.529348,0.606915;0.168478x0.0803191)\n",
       "OD280/OD315 of diluted wines    AxesSubplot(0.731522,0.606915;0.168478x0.0803191)\n",
       "Proline                            AxesSubplot(0.125,0.510532;0.168478x0.0803191)\n",
       "dtype: object"
      ]
     },
     "execution_count": 41,
     "metadata": {},
     "output_type": "execute_result"
    },
    {
     "data": {
      "image/png": "[encoded data removed]",
      "text/plain": [
       "<Figure size 1080x1440 with 32 Axes>"
      ]
     },
     "metadata": {
      "needs_background": "light"
     },
     "output_type": "display_data"
    }
   ],
   "source": [
    "# USE BOX PLOT TO CHECK THE VALUE RANGE AND OUTLIERS OF EACH FEATURE\n",
    "data_mean = df.iloc[:, :] # row, col\n",
    "print(data_mean)\n",
    "data_mean.plot(kind='box', subplots=True, layout=(8,4), sharex=False,\n",
    "sharey=False, fontsize=12, figsize=(15,20))"
   ]
  },
  {
   "cell_type": "code",
   "execution_count": 42,
   "id": "0bdb6701",
   "metadata": {},
   "outputs": [
    {
     "name": "stdout",
     "output_type": "stream",
     "text": [
      "[[0.842 0.192 0.572 ... 0.455 0.971 0.561]\n",
      " [0.571 0.206 0.417 ... 0.463 0.78  0.551]\n",
      " [0.561 0.32  0.701 ... 0.447 0.696 0.647]\n",
      " ...\n",
      " [0.589 0.7   0.481 ... 0.089 0.106 0.397]\n",
      " [0.563 0.366 0.54  ... 0.098 0.128 0.401]\n",
      " [0.816 0.664 0.738 ... 0.106 0.121 0.201]]\n"
     ]
    }
   ],
   "source": [
    "from sklearn.preprocessing import MinMaxScaler\n",
    "names = [\"Alcohol\", \"Malic acid\", \"Ash\", \"Alcalinity of ash\", \"Magnesium\", \"Total phenols\", \"Flavanoids\", \"Nonflavanoid phenols\", \"Proanthocyanins\", \"Color intensity\", \"Hue\", \"OD280/OD315 of diluted wines\", \"Proline\"]\n",
    "scaler = MinMaxScaler()\n",
    "normalized_data = scaler.fit_transform(data_mean)\n",
    "normalized_df = pd.DataFrame(normalized_data, columns=names)\n",
    "print(normalized_data)\n",
    "\n",
    "# #Assign features to X\n",
    "# X = features\n",
    "# #Normalise the features to use zero mean normalisation\n",
    "\n",
    "# from sklearn.preprocessing import StandardScaler\n",
    "# names = [\"Alcohol\", \"Malic acid\", \"Ash\", \"Alcalinity of ash\", \"Magnesium\", \"Total phenols\", \"Flavanoids\", \"Nonflavanoid phenols\", \"Proanthocyanins\", \"Color intensity\", \"Hue\", \"OD280/OD315 of diluted wines\", \"Proline\"]\n",
    "# scaler = StandardScaler()\n",
    "# Xs = scaler.fit_transform(X)\n",
    "# normalized_df = pd.DataFrame(Xs, columns=names)\n",
    "# fig,ax=plt.subplots(1,figsize=(20,8))\n",
    "# sns.boxplot(data=Xs,ax=ax) \n",
    "\n",
    "\n",
    "\n"
   ]
  },
  {
   "cell_type": "code",
   "execution_count": 43,
   "id": "72c30405",
   "metadata": {},
   "outputs": [],
   "source": [
    "from sklearn.model_selection import train_test_split\n",
    "X_train, X_test, y_train, y_test = train_test_split(normalized_df, y,random_state=0,test_size=0.2) "
   ]
  },
  {
   "cell_type": "code",
   "execution_count": 44,
   "id": "4b19586e",
   "metadata": {},
   "outputs": [
    {
     "data": {
      "text/html": [
       "<div>\n",
       "<style scoped>\n",
       "    .dataframe tbody tr th:only-of-type {\n",
       "        vertical-align: middle;\n",
       "    }\n",
       "\n",
       "    .dataframe tbody tr th {\n",
       "        vertical-align: top;\n",
       "    }\n",
       "\n",
       "    .dataframe thead th {\n",
       "        text-align: right;\n",
       "    }\n",
       "</style>\n",
       "<table border=\"1\" class=\"dataframe\">\n",
       "  <thead>\n",
       "    <tr style=\"text-align: right;\">\n",
       "      <th></th>\n",
       "      <th>Alcohol</th>\n",
       "      <th>Malic acid</th>\n",
       "      <th>Ash</th>\n",
       "      <th>Alcalinity of ash</th>\n",
       "      <th>Magnesium</th>\n",
       "      <th>Total phenols</th>\n",
       "      <th>Flavanoids</th>\n",
       "      <th>Nonflavanoid phenols</th>\n",
       "      <th>Proanthocyanins</th>\n",
       "      <th>Color intensity</th>\n",
       "      <th>Hue</th>\n",
       "      <th>OD280/OD315 of diluted wines</th>\n",
       "      <th>Proline</th>\n",
       "    </tr>\n",
       "  </thead>\n",
       "  <tbody>\n",
       "    <tr>\n",
       "      <th>161</th>\n",
       "      <td>0.700000</td>\n",
       "      <td>0.498024</td>\n",
       "      <td>0.631016</td>\n",
       "      <td>0.484536</td>\n",
       "      <td>0.402174</td>\n",
       "      <td>0.293103</td>\n",
       "      <td>0.046414</td>\n",
       "      <td>0.698113</td>\n",
       "      <td>0.123028</td>\n",
       "      <td>0.392491</td>\n",
       "      <td>0.390244</td>\n",
       "      <td>0.201465</td>\n",
       "      <td>0.286733</td>\n",
       "    </tr>\n",
       "    <tr>\n",
       "      <th>92</th>\n",
       "      <td>0.436842</td>\n",
       "      <td>0.156126</td>\n",
       "      <td>0.481283</td>\n",
       "      <td>0.520619</td>\n",
       "      <td>0.108696</td>\n",
       "      <td>0.137931</td>\n",
       "      <td>0.236287</td>\n",
       "      <td>0.849057</td>\n",
       "      <td>0.381703</td>\n",
       "      <td>0.151024</td>\n",
       "      <td>0.390244</td>\n",
       "      <td>0.289377</td>\n",
       "      <td>0.154779</td>\n",
       "    </tr>\n",
       "    <tr>\n",
       "      <th>94</th>\n",
       "      <td>0.155263</td>\n",
       "      <td>0.247036</td>\n",
       "      <td>0.491979</td>\n",
       "      <td>0.381443</td>\n",
       "      <td>0.304348</td>\n",
       "      <td>0.703448</td>\n",
       "      <td>0.405063</td>\n",
       "      <td>0.075472</td>\n",
       "      <td>0.296530</td>\n",
       "      <td>0.168089</td>\n",
       "      <td>0.552846</td>\n",
       "      <td>0.619048</td>\n",
       "      <td>0.047789</td>\n",
       "    </tr>\n",
       "    <tr>\n",
       "      <th>174</th>\n",
       "      <td>0.623684</td>\n",
       "      <td>0.626482</td>\n",
       "      <td>0.598930</td>\n",
       "      <td>0.639175</td>\n",
       "      <td>0.347826</td>\n",
       "      <td>0.282759</td>\n",
       "      <td>0.086498</td>\n",
       "      <td>0.566038</td>\n",
       "      <td>0.315457</td>\n",
       "      <td>0.513652</td>\n",
       "      <td>0.178862</td>\n",
       "      <td>0.106227</td>\n",
       "      <td>0.336662</td>\n",
       "    </tr>\n",
       "    <tr>\n",
       "      <th>24</th>\n",
       "      <td>0.650000</td>\n",
       "      <td>0.211462</td>\n",
       "      <td>0.668449</td>\n",
       "      <td>0.484536</td>\n",
       "      <td>0.282609</td>\n",
       "      <td>0.534483</td>\n",
       "      <td>0.478903</td>\n",
       "      <td>0.283019</td>\n",
       "      <td>0.394322</td>\n",
       "      <td>0.191126</td>\n",
       "      <td>0.520325</td>\n",
       "      <td>0.934066</td>\n",
       "      <td>0.404422</td>\n",
       "    </tr>\n",
       "    <tr>\n",
       "      <th>...</th>\n",
       "      <td>...</td>\n",
       "      <td>...</td>\n",
       "      <td>...</td>\n",
       "      <td>...</td>\n",
       "      <td>...</td>\n",
       "      <td>...</td>\n",
       "      <td>...</td>\n",
       "      <td>...</td>\n",
       "      <td>...</td>\n",
       "      <td>...</td>\n",
       "      <td>...</td>\n",
       "      <td>...</td>\n",
       "      <td>...</td>\n",
       "    </tr>\n",
       "    <tr>\n",
       "      <th>103</th>\n",
       "      <td>0.207895</td>\n",
       "      <td>0.193676</td>\n",
       "      <td>0.278075</td>\n",
       "      <td>0.458763</td>\n",
       "      <td>0.173913</td>\n",
       "      <td>0.524138</td>\n",
       "      <td>0.274262</td>\n",
       "      <td>0.452830</td>\n",
       "      <td>0.318612</td>\n",
       "      <td>0.066553</td>\n",
       "      <td>0.373984</td>\n",
       "      <td>0.428571</td>\n",
       "      <td>0.097718</td>\n",
       "    </tr>\n",
       "    <tr>\n",
       "      <th>67</th>\n",
       "      <td>0.352632</td>\n",
       "      <td>0.084980</td>\n",
       "      <td>0.299465</td>\n",
       "      <td>0.463918</td>\n",
       "      <td>0.086957</td>\n",
       "      <td>0.389655</td>\n",
       "      <td>0.350211</td>\n",
       "      <td>0.264151</td>\n",
       "      <td>0.198738</td>\n",
       "      <td>0.290102</td>\n",
       "      <td>0.520325</td>\n",
       "      <td>0.809524</td>\n",
       "      <td>0.165478</td>\n",
       "    </tr>\n",
       "    <tr>\n",
       "      <th>117</th>\n",
       "      <td>0.365789</td>\n",
       "      <td>0.171937</td>\n",
       "      <td>0.443850</td>\n",
       "      <td>0.613402</td>\n",
       "      <td>0.413043</td>\n",
       "      <td>0.351724</td>\n",
       "      <td>0.369198</td>\n",
       "      <td>0.396226</td>\n",
       "      <td>0.378549</td>\n",
       "      <td>0.066553</td>\n",
       "      <td>0.471545</td>\n",
       "      <td>0.619048</td>\n",
       "      <td>0.047789</td>\n",
       "    </tr>\n",
       "    <tr>\n",
       "      <th>47</th>\n",
       "      <td>0.755263</td>\n",
       "      <td>0.185771</td>\n",
       "      <td>0.406417</td>\n",
       "      <td>0.278351</td>\n",
       "      <td>0.336957</td>\n",
       "      <td>0.731034</td>\n",
       "      <td>0.643460</td>\n",
       "      <td>0.150943</td>\n",
       "      <td>0.545741</td>\n",
       "      <td>0.411263</td>\n",
       "      <td>0.349593</td>\n",
       "      <td>0.754579</td>\n",
       "      <td>0.504280</td>\n",
       "    </tr>\n",
       "    <tr>\n",
       "      <th>172</th>\n",
       "      <td>0.823684</td>\n",
       "      <td>0.349802</td>\n",
       "      <td>0.598930</td>\n",
       "      <td>0.484536</td>\n",
       "      <td>0.228261</td>\n",
       "      <td>0.241379</td>\n",
       "      <td>0.075949</td>\n",
       "      <td>0.584906</td>\n",
       "      <td>0.261830</td>\n",
       "      <td>0.718430</td>\n",
       "      <td>0.113821</td>\n",
       "      <td>0.161172</td>\n",
       "      <td>0.272468</td>\n",
       "    </tr>\n",
       "  </tbody>\n",
       "</table>\n",
       "<p>142 rows × 13 columns</p>\n",
       "</div>"
      ],
      "text/plain": [
       "      Alcohol  Malic acid       Ash  Alcalinity of ash  Magnesium  \\\n",
       "161  0.700000    0.498024  0.631016           0.484536   0.402174   \n",
       "92   0.436842    0.156126  0.481283           0.520619   0.108696   \n",
       "94   0.155263    0.247036  0.491979           0.381443   0.304348   \n",
       "174  0.623684    0.626482  0.598930           0.639175   0.347826   \n",
       "24   0.650000    0.211462  0.668449           0.484536   0.282609   \n",
       "..        ...         ...       ...                ...        ...   \n",
       "103  0.207895    0.193676  0.278075           0.458763   0.173913   \n",
       "67   0.352632    0.084980  0.299465           0.463918   0.086957   \n",
       "117  0.365789    0.171937  0.443850           0.613402   0.413043   \n",
       "47   0.755263    0.185771  0.406417           0.278351   0.336957   \n",
       "172  0.823684    0.349802  0.598930           0.484536   0.228261   \n",
       "\n",
       "     Total phenols  Flavanoids  Nonflavanoid phenols  Proanthocyanins  \\\n",
       "161       0.293103    0.046414              0.698113         0.123028   \n",
       "92        0.137931    0.236287              0.849057         0.381703   \n",
       "94        0.703448    0.405063              0.075472         0.296530   \n",
       "174       0.282759    0.086498              0.566038         0.315457   \n",
       "24        0.534483    0.478903              0.283019         0.394322   \n",
       "..             ...         ...                   ...              ...   \n",
       "103       0.524138    0.274262              0.452830         0.318612   \n",
       "67        0.389655    0.350211              0.264151         0.198738   \n",
       "117       0.351724    0.369198              0.396226         0.378549   \n",
       "47        0.731034    0.643460              0.150943         0.545741   \n",
       "172       0.241379    0.075949              0.584906         0.261830   \n",
       "\n",
       "     Color intensity       Hue  OD280/OD315 of diluted wines   Proline  \n",
       "161         0.392491  0.390244                      0.201465  0.286733  \n",
       "92          0.151024  0.390244                      0.289377  0.154779  \n",
       "94          0.168089  0.552846                      0.619048  0.047789  \n",
       "174         0.513652  0.178862                      0.106227  0.336662  \n",
       "24          0.191126  0.520325                      0.934066  0.404422  \n",
       "..               ...       ...                           ...       ...  \n",
       "103         0.066553  0.373984                      0.428571  0.097718  \n",
       "67          0.290102  0.520325                      0.809524  0.165478  \n",
       "117         0.066553  0.471545                      0.619048  0.047789  \n",
       "47          0.411263  0.349593                      0.754579  0.504280  \n",
       "172         0.718430  0.113821                      0.161172  0.272468  \n",
       "\n",
       "[142 rows x 13 columns]"
      ]
     },
     "execution_count": 44,
     "metadata": {},
     "output_type": "execute_result"
    }
   ],
   "source": [
    "X_train\n"
   ]
  },
  {
   "cell_type": "code",
   "execution_count": 45,
   "id": "9c95816d",
   "metadata": {},
   "outputs": [
    {
     "name": "stdout",
     "output_type": "stream",
     "text": [
      "['Flavanoids', 'Color intensity', 'OD280/OD315 of diluted wines', 'Proline']\n"
     ]
    }
   ],
   "source": [
    "from sklearn.feature_selection import SelectKBest\n",
    "from sklearn.feature_selection import chi2\n",
    "selector = SelectKBest(score_func=chi2, k=4)\n",
    "\n",
    "selector.fit(normalized_df, y)\n",
    "np_normalized_data = pd.DataFrame(normalized_data, columns = names)\n",
    "vector_names = list(np_normalized_data.columns[selector.get_support(indices=True)])\n",
    "print(vector_names)\n",
    "\n",
    "\n"
   ]
  },
  {
   "cell_type": "code",
   "execution_count": 46,
   "id": "3d178515",
   "metadata": {},
   "outputs": [],
   "source": [
    "# from sklearn.preprocessing import StandardScaler\n",
    "\n",
    "# Xs = np_normalized_data[vector_names]\n",
    "# print(np_normalized_data)\n",
    "# fig,ax=plt.subplots(1,figsize=(20,8))\n",
    "# sns.boxplot(data=Xs,ax=ax) "
   ]
  },
  {
   "cell_type": "code",
   "execution_count": 60,
   "id": "a9c0273d",
   "metadata": {},
   "outputs": [
    {
     "name": "stdout",
     "output_type": "stream",
     "text": [
      "[ 9.454  8.119  0.935  3.32   1.641  9.402 16.051  5.346  3.981 12.453\n",
      "  8.449 16.678 18.792]\n",
      "Num Features: 4\n",
      "Selected Features: [ True False False False False False  True False False False False  True\n",
      "  True]\n",
      "Feature Ranking: [ 1  7  5  4 10  6  1  9  8  2  3  1  1]\n"
     ]
    }
   ],
   "source": [
    "# Import the necessary libraries first\n",
    "from sklearn.feature_selection import SelectKBest\n",
    "from sklearn.feature_selection import chi2\n",
    "\n",
    "\n",
    "# print(Y)\n",
    "# Y.describe()\n",
    "# Feature extraction\n",
    "test = SelectKBest(score_func=chi2, k=4)\n",
    "fit = test.fit(normalized_df, y)\n",
    "\n",
    "# Summarize scores\n",
    "np.set_printoptions(precision=3)\n",
    "print(fit.scores_)\n",
    "\n",
    "sel_features = fit.transform(normalized_df)\n",
    "\n",
    "\n",
    "# Import your necessary dependencies\n",
    "from sklearn.feature_selection import RFE\n",
    "from sklearn.linear_model import LogisticRegression\n",
    "\n",
    "\n",
    "# Feature extraction\n",
    "model = LogisticRegression(random_state = 0)\n",
    "rfe = RFE(model, n_features_to_select=4, step = 1)\n",
    "fit = rfe.fit(normalized_df, y)\n",
    "print(\"Num Features: %s\" % (fit.n_features_))\n",
    "print(\"Selected Features: %s\" % (fit.support_))\n",
    "print(\"Feature Ranking: %s\" % (fit.ranking_))"
   ]
  },
  {
   "cell_type": "code",
   "execution_count": 48,
   "id": "d6e80b07",
   "metadata": {},
   "outputs": [
    {
     "name": "stdout",
     "output_type": "stream",
     "text": [
      "(142, 4)\n",
      "(36, 4)\n"
     ]
    }
   ],
   "source": [
    "# vector_names = ['Alcohol', 'Flavanoids', 'OD280/OD315 of diluted wines', 'Proline']\n",
    "\n",
    "trainX_best = X_train[vector_names]\n",
    "testX_best = X_test[vector_names]\n",
    "\n",
    "print(trainX_best.shape)\n",
    "print(testX_best.shape)\n",
    "\n"
   ]
  },
  {
   "cell_type": "markdown",
   "id": "3cc554e0",
   "metadata": {},
   "source": [
    "#  DECISION TREE"
   ]
  },
  {
   "cell_type": "code",
   "execution_count": 49,
   "id": "b315e03f",
   "metadata": {},
   "outputs": [
    {
     "data": {
      "text/plain": [
       "DecisionTreeClassifier(criterion='entropy', random_state=0)"
      ]
     },
     "execution_count": 49,
     "metadata": {},
     "output_type": "execute_result"
    }
   ],
   "source": [
    "#Training the Decision Tree Classification model on the Training set\n",
    "from sklearn.tree import DecisionTreeClassifier\n",
    "DT_classifier = DecisionTreeClassifier(criterion = 'entropy', random_state = 0)\n",
    "DT_classifier.fit(trainX_best, y_train)"
   ]
  },
  {
   "cell_type": "code",
   "execution_count": 50,
   "id": "1019322d",
   "metadata": {},
   "outputs": [],
   "source": [
    "y_pred = DT_classifier.predict(testX_best)\n"
   ]
  },
  {
   "cell_type": "code",
   "execution_count": 51,
   "id": "3c046807",
   "metadata": {},
   "outputs": [
    {
     "name": "stdout",
     "output_type": "stream",
     "text": [
      "[[14  0  0]\n",
      " [ 0 15  1]\n",
      " [ 0  0  6]]\n"
     ]
    },
    {
     "data": {
      "text/plain": [
       "0.9722222222222222"
      ]
     },
     "execution_count": 51,
     "metadata": {},
     "output_type": "execute_result"
    }
   ],
   "source": [
    "# Confusion Matrix\n",
    "from sklearn.metrics import confusion_matrix, accuracy_score\n",
    "cm = confusion_matrix(y_test, y_pred)\n",
    "print(cm)\n",
    "accuracy_score(y_test, y_pred)"
   ]
  },
  {
   "cell_type": "markdown",
   "id": "ceee55c1",
   "metadata": {},
   "source": [
    "#  LOGISTIC REGRESSION"
   ]
  },
  {
   "cell_type": "code",
   "execution_count": 52,
   "id": "7450852c",
   "metadata": {},
   "outputs": [
    {
     "data": {
      "text/html": [
       "<div>\n",
       "<style scoped>\n",
       "    .dataframe tbody tr th:only-of-type {\n",
       "        vertical-align: middle;\n",
       "    }\n",
       "\n",
       "    .dataframe tbody tr th {\n",
       "        vertical-align: top;\n",
       "    }\n",
       "\n",
       "    .dataframe thead th {\n",
       "        text-align: right;\n",
       "    }\n",
       "</style>\n",
       "<table border=\"1\" class=\"dataframe\">\n",
       "  <thead>\n",
       "    <tr style=\"text-align: right;\">\n",
       "      <th></th>\n",
       "      <th>Flavanoids</th>\n",
       "      <th>Color intensity</th>\n",
       "      <th>OD280/OD315 of diluted wines</th>\n",
       "      <th>Proline</th>\n",
       "    </tr>\n",
       "  </thead>\n",
       "  <tbody>\n",
       "    <tr>\n",
       "      <th>161</th>\n",
       "      <td>0.046414</td>\n",
       "      <td>0.392491</td>\n",
       "      <td>0.201465</td>\n",
       "      <td>0.286733</td>\n",
       "    </tr>\n",
       "    <tr>\n",
       "      <th>92</th>\n",
       "      <td>0.236287</td>\n",
       "      <td>0.151024</td>\n",
       "      <td>0.289377</td>\n",
       "      <td>0.154779</td>\n",
       "    </tr>\n",
       "    <tr>\n",
       "      <th>94</th>\n",
       "      <td>0.405063</td>\n",
       "      <td>0.168089</td>\n",
       "      <td>0.619048</td>\n",
       "      <td>0.047789</td>\n",
       "    </tr>\n",
       "    <tr>\n",
       "      <th>174</th>\n",
       "      <td>0.086498</td>\n",
       "      <td>0.513652</td>\n",
       "      <td>0.106227</td>\n",
       "      <td>0.336662</td>\n",
       "    </tr>\n",
       "    <tr>\n",
       "      <th>24</th>\n",
       "      <td>0.478903</td>\n",
       "      <td>0.191126</td>\n",
       "      <td>0.934066</td>\n",
       "      <td>0.404422</td>\n",
       "    </tr>\n",
       "    <tr>\n",
       "      <th>...</th>\n",
       "      <td>...</td>\n",
       "      <td>...</td>\n",
       "      <td>...</td>\n",
       "      <td>...</td>\n",
       "    </tr>\n",
       "    <tr>\n",
       "      <th>103</th>\n",
       "      <td>0.274262</td>\n",
       "      <td>0.066553</td>\n",
       "      <td>0.428571</td>\n",
       "      <td>0.097718</td>\n",
       "    </tr>\n",
       "    <tr>\n",
       "      <th>67</th>\n",
       "      <td>0.350211</td>\n",
       "      <td>0.290102</td>\n",
       "      <td>0.809524</td>\n",
       "      <td>0.165478</td>\n",
       "    </tr>\n",
       "    <tr>\n",
       "      <th>117</th>\n",
       "      <td>0.369198</td>\n",
       "      <td>0.066553</td>\n",
       "      <td>0.619048</td>\n",
       "      <td>0.047789</td>\n",
       "    </tr>\n",
       "    <tr>\n",
       "      <th>47</th>\n",
       "      <td>0.643460</td>\n",
       "      <td>0.411263</td>\n",
       "      <td>0.754579</td>\n",
       "      <td>0.504280</td>\n",
       "    </tr>\n",
       "    <tr>\n",
       "      <th>172</th>\n",
       "      <td>0.075949</td>\n",
       "      <td>0.718430</td>\n",
       "      <td>0.161172</td>\n",
       "      <td>0.272468</td>\n",
       "    </tr>\n",
       "  </tbody>\n",
       "</table>\n",
       "<p>142 rows × 4 columns</p>\n",
       "</div>"
      ],
      "text/plain": [
       "     Flavanoids  Color intensity  OD280/OD315 of diluted wines   Proline\n",
       "161    0.046414         0.392491                      0.201465  0.286733\n",
       "92     0.236287         0.151024                      0.289377  0.154779\n",
       "94     0.405063         0.168089                      0.619048  0.047789\n",
       "174    0.086498         0.513652                      0.106227  0.336662\n",
       "24     0.478903         0.191126                      0.934066  0.404422\n",
       "..          ...              ...                           ...       ...\n",
       "103    0.274262         0.066553                      0.428571  0.097718\n",
       "67     0.350211         0.290102                      0.809524  0.165478\n",
       "117    0.369198         0.066553                      0.619048  0.047789\n",
       "47     0.643460         0.411263                      0.754579  0.504280\n",
       "172    0.075949         0.718430                      0.161172  0.272468\n",
       "\n",
       "[142 rows x 4 columns]"
      ]
     },
     "execution_count": 52,
     "metadata": {},
     "output_type": "execute_result"
    }
   ],
   "source": [
    "from sklearn.linear_model import LogisticRegression \n",
    "# instantiate the model \n",
    "logreg =  LogisticRegression(solver='liblinear') \n",
    "# fit the model with data \n",
    "logreg.fit(trainX_best,y_train) \n",
    "trainX_best"
   ]
  },
  {
   "cell_type": "code",
   "execution_count": 53,
   "id": "5f60fc43",
   "metadata": {},
   "outputs": [
    {
     "data": {
      "text/plain": [
       "array([1, 3, 2, 1, 2, 1, 1, 3, 2, 2, 3, 3, 1, 1, 3, 2, 1, 1, 3, 1, 2, 1,\n",
       "       2, 2, 3, 2, 2, 2, 2, 3, 1, 1, 2, 1, 1, 1], dtype=int64)"
      ]
     },
     "execution_count": 53,
     "metadata": {},
     "output_type": "execute_result"
    }
   ],
   "source": [
    "# predicting \n",
    "y_pred = logreg.predict(testX_best) \n",
    "y_pred "
   ]
  },
  {
   "cell_type": "code",
   "execution_count": 54,
   "id": "ee56ecbd",
   "metadata": {},
   "outputs": [
    {
     "name": "stdout",
     "output_type": "stream",
     "text": [
      "[[13  1  0]\n",
      " [ 2 12  2]\n",
      " [ 0  0  6]]\n"
     ]
    },
    {
     "data": {
      "text/plain": [
       "0.8611111111111112"
      ]
     },
     "execution_count": 54,
     "metadata": {},
     "output_type": "execute_result"
    }
   ],
   "source": [
    "# Confusion Matrix\n",
    "from sklearn.metrics import confusion_matrix, accuracy_score\n",
    "cm = confusion_matrix(y_test,y_pred)\n",
    "print(cm)\n",
    "accuracy_score(y_test,y_pred)"
   ]
  },
  {
   "cell_type": "markdown",
   "id": "47fa38a4",
   "metadata": {},
   "source": [
    "# SVM"
   ]
  },
  {
   "cell_type": "code",
   "execution_count": 55,
   "id": "64330ad3",
   "metadata": {},
   "outputs": [
    {
     "data": {
      "text/plain": [
       "SVC(random_state=0)"
      ]
     },
     "execution_count": 55,
     "metadata": {},
     "output_type": "execute_result"
    }
   ],
   "source": [
    "from sklearn.svm import SVC\n",
    "SVM_classifier = SVC(kernel = 'rbf', random_state = 0)\n",
    "SVM_classifier.fit(trainX_best, y_train)"
   ]
  },
  {
   "cell_type": "code",
   "execution_count": 56,
   "id": "35857ecd",
   "metadata": {},
   "outputs": [
    {
     "name": "stdout",
     "output_type": "stream",
     "text": [
      "[1 3 2 1 2 1 1 3 2 2 3 3 1 2 3 2 1 1 3 1 2 1 2 2 2 2 2 2 2 3 1 1 2 1 1 1]\n"
     ]
    }
   ],
   "source": [
    "y_pred = SVM_classifier.predict(testX_best)\n",
    "print(y_pred)"
   ]
  },
  {
   "cell_type": "code",
   "execution_count": 57,
   "id": "7954e010",
   "metadata": {},
   "outputs": [
    {
     "name": "stdout",
     "output_type": "stream",
     "text": [
      "[[13  1  0]\n",
      " [ 1 14  1]\n",
      " [ 0  0  6]]\n"
     ]
    },
    {
     "data": {
      "text/plain": [
       "0.9166666666666666"
      ]
     },
     "execution_count": 57,
     "metadata": {},
     "output_type": "execute_result"
    }
   ],
   "source": [
    "from sklearn.metrics import confusion_matrix, accuracy_score\n",
    "cm = confusion_matrix(y_test, y_pred)\n",
    "print(cm)\n",
    "accuracy_score(y_test, y_pred)"
   ]
  },
  {
   "cell_type": "markdown",
   "id": "8f00c23a",
   "metadata": {},
   "source": [
    "# MULTI PLATYER PRECEPTRON NEURAL NETWORK"
   ]
  },
  {
   "cell_type": "code",
   "execution_count": 58,
   "id": "49dce307",
   "metadata": {},
   "outputs": [
    {
     "name": "stdout",
     "output_type": "stream",
     "text": [
      "Iteration 1, loss = 1.23894089\n",
      "Iteration 2, loss = 1.20796418\n",
      "Iteration 3, loss = 1.17847982\n",
      "Iteration 4, loss = 1.15044210\n",
      "Iteration 5, loss = 1.12396292\n",
      "Iteration 6, loss = 1.09911866\n",
      "Iteration 7, loss = 1.07602660\n",
      "Iteration 8, loss = 1.05483706\n",
      "Iteration 9, loss = 1.03571099\n",
      "Iteration 10, loss = 1.01884857\n",
      "Iteration 11, loss = 1.00427584\n",
      "Iteration 12, loss = 0.99190815\n",
      "Iteration 13, loss = 0.98098501\n",
      "Iteration 14, loss = 0.97123250\n",
      "Iteration 15, loss = 0.96144448\n",
      "Iteration 16, loss = 0.95094049\n",
      "Iteration 17, loss = 0.93934171\n",
      "Iteration 18, loss = 0.92631495\n",
      "Iteration 19, loss = 0.91114934\n",
      "Iteration 20, loss = 0.89438018\n",
      "Iteration 21, loss = 0.87722314\n",
      "Iteration 22, loss = 0.86032693\n",
      "Iteration 23, loss = 0.84415618\n",
      "Iteration 24, loss = 0.82935680\n",
      "Iteration 25, loss = 0.81563953\n",
      "Iteration 26, loss = 0.80310010\n",
      "Iteration 27, loss = 0.79102910\n",
      "Iteration 28, loss = 0.77868621\n",
      "Iteration 29, loss = 0.76575869\n",
      "Iteration 30, loss = 0.75234113\n",
      "Iteration 31, loss = 0.73861509\n",
      "Iteration 32, loss = 0.72497635\n",
      "Iteration 33, loss = 0.71176604\n",
      "Iteration 34, loss = 0.69931400\n",
      "Iteration 35, loss = 0.68782755\n",
      "Iteration 36, loss = 0.67775246\n",
      "Iteration 37, loss = 0.66797291\n",
      "Iteration 38, loss = 0.65744428\n",
      "Iteration 39, loss = 0.64603032\n",
      "Iteration 40, loss = 0.63409894\n",
      "Iteration 41, loss = 0.62208318\n",
      "Iteration 42, loss = 0.61057832\n",
      "Iteration 43, loss = 0.59980860\n",
      "Iteration 44, loss = 0.58961391\n",
      "Iteration 45, loss = 0.57991690\n",
      "Iteration 46, loss = 0.57035186\n",
      "Iteration 47, loss = 0.56062076\n",
      "Iteration 48, loss = 0.55081994\n",
      "Iteration 49, loss = 0.54114109\n",
      "Iteration 50, loss = 0.53174128\n",
      "Iteration 51, loss = 0.52270437\n",
      "Iteration 52, loss = 0.51394659\n",
      "Iteration 53, loss = 0.50521720\n",
      "Iteration 54, loss = 0.49633910\n",
      "Iteration 55, loss = 0.48741878\n",
      "Iteration 56, loss = 0.47862761\n",
      "Iteration 57, loss = 0.47012038\n",
      "Iteration 58, loss = 0.46192108\n",
      "Iteration 59, loss = 0.45383408\n",
      "Iteration 60, loss = 0.44575425\n",
      "Iteration 61, loss = 0.43763784\n",
      "Iteration 62, loss = 0.42949792\n",
      "Iteration 63, loss = 0.42137469\n",
      "Iteration 64, loss = 0.41332100\n",
      "Iteration 65, loss = 0.40534067\n",
      "Iteration 66, loss = 0.39740179\n",
      "Iteration 67, loss = 0.38947177\n",
      "Iteration 68, loss = 0.38155060\n",
      "Iteration 69, loss = 0.37364630\n",
      "Iteration 70, loss = 0.36577388\n",
      "Iteration 71, loss = 0.35797930\n",
      "Iteration 72, loss = 0.35029455\n",
      "Iteration 73, loss = 0.34266271\n",
      "Iteration 74, loss = 0.33504651\n",
      "Iteration 75, loss = 0.32747512\n",
      "Iteration 76, loss = 0.31994772\n",
      "Iteration 77, loss = 0.31249621\n",
      "Iteration 78, loss = 0.30513088\n",
      "Iteration 79, loss = 0.29782926\n",
      "Iteration 80, loss = 0.29059263\n",
      "Iteration 81, loss = 0.28343105\n",
      "Iteration 82, loss = 0.27634449\n",
      "Iteration 83, loss = 0.26933208\n",
      "Iteration 84, loss = 0.26242651\n",
      "Iteration 85, loss = 0.25562342\n",
      "Iteration 86, loss = 0.24890376\n",
      "Iteration 87, loss = 0.24227236\n",
      "Iteration 88, loss = 0.23574864\n",
      "Iteration 89, loss = 0.22935089\n",
      "Iteration 90, loss = 0.22308530\n",
      "Iteration 91, loss = 0.21695077\n",
      "Iteration 92, loss = 0.21094526\n",
      "Iteration 93, loss = 0.20507634\n",
      "Iteration 94, loss = 0.19935443\n",
      "Iteration 95, loss = 0.19378525\n",
      "Iteration 96, loss = 0.18839397\n",
      "Iteration 97, loss = 0.18316388\n",
      "Iteration 98, loss = 0.17810083\n",
      "Iteration 99, loss = 0.17320406\n",
      "Iteration 100, loss = 0.16849283\n",
      "Iteration 101, loss = 0.16395242\n",
      "Iteration 102, loss = 0.15957866\n",
      "Iteration 103, loss = 0.15537106\n",
      "Iteration 104, loss = 0.15132999\n",
      "Iteration 105, loss = 0.14745047\n",
      "Iteration 106, loss = 0.14373062\n",
      "Iteration 107, loss = 0.14017023\n",
      "Iteration 108, loss = 0.13676621\n",
      "Iteration 109, loss = 0.13351320\n",
      "Iteration 110, loss = 0.13040419\n",
      "Iteration 111, loss = 0.12743824\n",
      "Iteration 112, loss = 0.12460832\n",
      "Iteration 113, loss = 0.12191903\n",
      "Iteration 114, loss = 0.11936603\n",
      "Iteration 115, loss = 0.11694009\n",
      "Iteration 116, loss = 0.11463443\n",
      "Iteration 117, loss = 0.11244074\n",
      "Iteration 118, loss = 0.11035485\n",
      "Iteration 119, loss = 0.10837325\n",
      "Iteration 120, loss = 0.10648962\n",
      "Iteration 121, loss = 0.10469902\n",
      "Iteration 122, loss = 0.10299838\n",
      "Iteration 123, loss = 0.10138475\n",
      "Iteration 124, loss = 0.09985531\n",
      "Iteration 125, loss = 0.09839961\n",
      "Iteration 126, loss = 0.09701287\n",
      "Iteration 127, loss = 0.09569214\n",
      "Iteration 128, loss = 0.09443465\n",
      "Iteration 129, loss = 0.09323749\n",
      "Iteration 130, loss = 0.09209737\n",
      "Iteration 131, loss = 0.09100853\n",
      "Iteration 132, loss = 0.08996737\n",
      "Iteration 133, loss = 0.08897106\n",
      "Iteration 134, loss = 0.08801814\n",
      "Iteration 135, loss = 0.08710671\n",
      "Iteration 136, loss = 0.08623554\n",
      "Iteration 137, loss = 0.08540030\n",
      "Iteration 138, loss = 0.08460036\n",
      "Iteration 139, loss = 0.08383253\n",
      "Iteration 140, loss = 0.08309403\n",
      "Iteration 141, loss = 0.08238324\n",
      "Iteration 142, loss = 0.08169906\n",
      "Iteration 143, loss = 0.08104020\n",
      "Iteration 144, loss = 0.08040424\n",
      "Iteration 145, loss = 0.07979006\n",
      "Iteration 146, loss = 0.07919637\n",
      "Iteration 147, loss = 0.07862200\n",
      "Iteration 148, loss = 0.07806629\n",
      "Iteration 149, loss = 0.07752806\n",
      "Iteration 150, loss = 0.07700608\n",
      "Iteration 151, loss = 0.07649932\n",
      "Iteration 152, loss = 0.07600679\n",
      "Iteration 153, loss = 0.07552806\n",
      "Iteration 154, loss = 0.07506243\n",
      "Iteration 155, loss = 0.07461118\n",
      "Iteration 156, loss = 0.07417216\n",
      "Iteration 157, loss = 0.07374330\n",
      "Iteration 158, loss = 0.07332511\n",
      "Iteration 159, loss = 0.07291628\n",
      "Iteration 160, loss = 0.07251635\n",
      "Iteration 161, loss = 0.07212841\n",
      "Iteration 162, loss = 0.07175093\n",
      "Iteration 163, loss = 0.07138192\n",
      "Iteration 164, loss = 0.07102038\n",
      "Iteration 165, loss = 0.07066594\n",
      "Iteration 166, loss = 0.07031822\n",
      "Iteration 167, loss = 0.06997694\n",
      "Iteration 168, loss = 0.06964300\n",
      "Iteration 169, loss = 0.06931623\n",
      "Iteration 170, loss = 0.06899725\n",
      "Iteration 171, loss = 0.06868394\n",
      "Iteration 172, loss = 0.06837545\n",
      "Iteration 173, loss = 0.06807139\n",
      "Iteration 174, loss = 0.06777396\n",
      "Iteration 175, loss = 0.06749010\n",
      "Iteration 176, loss = 0.06721638\n",
      "Iteration 177, loss = 0.06694195\n",
      "Iteration 178, loss = 0.06666846\n",
      "Iteration 179, loss = 0.06639708\n",
      "Iteration 180, loss = 0.06614064\n",
      "Iteration 181, loss = 0.06589067\n",
      "Iteration 182, loss = 0.06564128\n",
      "Iteration 183, loss = 0.06539237\n",
      "Iteration 184, loss = 0.06514389\n",
      "Iteration 185, loss = 0.06490734\n",
      "Iteration 186, loss = 0.06467960\n",
      "Iteration 187, loss = 0.06445122\n",
      "Iteration 188, loss = 0.06422295\n",
      "Iteration 189, loss = 0.06399566\n",
      "Iteration 190, loss = 0.06378271\n",
      "Iteration 191, loss = 0.06357074\n",
      "Iteration 192, loss = 0.06335727\n",
      "Iteration 193, loss = 0.06314600\n",
      "Iteration 194, loss = 0.06293687\n",
      "Iteration 195, loss = 0.06273885\n",
      "Iteration 196, loss = 0.06254044\n",
      "Iteration 197, loss = 0.06234269\n",
      "Iteration 198, loss = 0.06214797\n",
      "Iteration 199, loss = 0.06196233\n",
      "Iteration 200, loss = 0.06177760\n"
     ]
    },
    {
     "name": "stderr",
     "output_type": "stream",
     "text": [
      "C:\\Users\\hamzo\\anaconda3\\lib\\site-packages\\sklearn\\neural_network\\_multilayer_perceptron.py:692: ConvergenceWarning: Stochastic Optimizer: Maximum iterations (200) reached and the optimization hasn't converged yet.\n",
      "  warnings.warn(\n"
     ]
    },
    {
     "data": {
      "text/plain": [
       "MLPClassifier(hidden_layer_sizes=(6, 5), learning_rate_init=0.01,\n",
       "              random_state=5, verbose=True)"
      ]
     },
     "execution_count": 58,
     "metadata": {},
     "output_type": "execute_result"
    }
   ],
   "source": [
    "# Import MLPClassifer \n",
    "from sklearn.neural_network import MLPClassifier\n",
    "\n",
    "# Create model object\n",
    "MLP_clf = MLPClassifier(hidden_layer_sizes=(6,5),\n",
    "                    random_state=5,\n",
    "                    verbose=True,\n",
    "                    learning_rate_init=0.01)\n",
    "\n",
    "# Fit data onto the model\n",
    "MLP_clf.fit(trainX_best,y_train)"
   ]
  },
  {
   "cell_type": "code",
   "execution_count": 59,
   "id": "2b866507",
   "metadata": {},
   "outputs": [
    {
     "data": {
      "text/plain": [
       "0.9444444444444444"
      ]
     },
     "execution_count": 59,
     "metadata": {},
     "output_type": "execute_result"
    }
   ],
   "source": [
    "# Make prediction on test dataset\n",
    "ypred= MLP_clf.predict(testX_best)\n",
    "\n",
    "# Import accuracy score \n",
    "from sklearn.metrics import accuracy_score\n",
    "\n",
    "# Calcuate accuracy\n",
    "accuracy_score(y_test,ypred)"
   ]
  },
  {
   "cell_type": "code",
   "execution_count": null,
   "id": "1e57b0bb",
   "metadata": {},
   "outputs": [],
   "source": []
  },
  {
   "cell_type": "code",
   "execution_count": null,
   "id": "5e9d66b3",
   "metadata": {},
   "outputs": [],
   "source": []
  },
  {
   "cell_type": "code",
   "execution_count": null,
   "id": "c694f6b8",
   "metadata": {},
   "outputs": [],
   "source": []
  }
 ],
 "metadata": {
  "kernelspec": {
   "display_name": "Python 3 (ipykernel)",
   "language": "python",
   "name": "python3"
  },
  "language_info": {
   "codemirror_mode": {
    "name": "ipython",
    "version": 3
   },
   "file_extension": ".py",
   "mimetype": "text/x-python",
   "name": "python",
   "nbconvert_exporter": "python",
   "pygments_lexer": "ipython3",
   "version": "3.9.12"
  }
 },
 "nbformat": 4,
 "nbformat_minor": 5
}
